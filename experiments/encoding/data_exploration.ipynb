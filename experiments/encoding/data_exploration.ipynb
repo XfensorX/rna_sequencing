{
 "cells": [
  {
   "cell_type": "code",
   "execution_count": 2,
   "metadata": {},
   "outputs": [
    {
     "name": "stdout",
     "output_type": "stream",
     "text": [
      "The autoreload extension is already loaded. To reload it, use:\n",
      "  %reload_ext autoreload\n"
     ]
    }
   ],
   "source": [
    "%load_ext autoreload\n",
    "%autoreload 2\n",
    "\n",
    "from utils import data\n",
    "import torch\n"
   ]
  },
  {
   "cell_type": "code",
   "execution_count": 3,
   "metadata": {},
   "outputs": [],
   "source": [
    "X_test, y_test = data.get_data(\"data/splits/test\")\n",
    "X_val, y_val = data.get_data(\"data/splits/val\")"
   ]
  },
  {
   "cell_type": "code",
   "execution_count": 10,
   "metadata": {},
   "outputs": [],
   "source": [
    "def make_visible(vector):\n",
    "    nonzero_indices = torch.nonzero(vector, as_tuple=True)[0]\n",
    "    nonzero_values = vector[nonzero_indices]\n",
    "\n",
    "    return sorted(list(zip(nonzero_indices.tolist(), nonzero_values.tolist())), key=lambda x: x[1], reverse=True)"
   ]
  },
  {
   "cell_type": "code",
   "execution_count": 20,
   "metadata": {},
   "outputs": [],
   "source": [
    "x_o = X_test[y_test[:, 0] == 0]\n",
    "x_i = X_test[y_test[:, 0] == 1]\n",
    "x_control = X_test[y_test[:] == ]"
   ]
  },
  {
   "cell_type": "code",
   "execution_count": null,
   "metadata": {},
   "outputs": [],
   "source": [
    "x_o.shape, x_i.shape"
   ]
  },
  {
   "cell_type": "code",
   "execution_count": 47,
   "metadata": {},
   "outputs": [],
   "source": [
    "import pandas as pd"
   ]
  },
  {
   "cell_type": "code",
   "execution_count": 65,
   "metadata": {},
   "outputs": [],
   "source": [
    "def combine(**arrays):\n",
    "    all_numbers = sorted(set.union(*list(set(x) for x in arrays.values())))\n",
    "\n",
    "    data = {\n",
    "        name: [num if num in array else \"_\" for num in all_numbers]\n",
    "        for name, array in arrays.items()\n",
    "    }\n",
    "\n",
    "    return pd.DataFrame(data)"
   ]
  },
  {
   "cell_type": "code",
   "execution_count": 66,
   "metadata": {},
   "outputs": [],
   "source": [
    "K = 3\n",
    "\n",
    "_, topk_i = torch.topk(x_i, K, dim=1)\n",
    "_, topk_o = torch.topk(x_o, K, dim=1)\n",
    "topk_o = sorted(list(set(x.item()  for y in topk_o for x in y)))\n",
    "topk_i = sorted(list(set(x.item()  for y in topk_i for x in y)))\n",
    "\n",
    "\n",
    "\n",
    "\n",
    "topk_df = combine(O=topk_o, I=topk_i)"
   ]
  },
  {
   "cell_type": "code",
   "execution_count": null,
   "metadata": {},
   "outputs": [],
   "source": []
  }
 ],
 "metadata": {
  "kernelspec": {
   "display_name": ".venv",
   "language": "python",
   "name": "python3"
  },
  "language_info": {
   "codemirror_mode": {
    "name": "ipython",
    "version": 3
   },
   "file_extension": ".py",
   "mimetype": "text/x-python",
   "name": "python",
   "nbconvert_exporter": "python",
   "pygments_lexer": "ipython3",
   "version": "3.12.7"
  }
 },
 "nbformat": 4,
 "nbformat_minor": 2
}
