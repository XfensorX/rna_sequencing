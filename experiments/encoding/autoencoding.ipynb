{
 "cells": [
  {
   "cell_type": "code",
   "execution_count": 1,
   "metadata": {},
   "outputs": [],
   "source": [
    "import sys\n",
    "import pandas as pd\n",
    "import torch\n",
    "import torch.nn as nn\n",
    "import numpy as np\n",
    "import matplotlib.pyplot as plt\n",
    "from tqdm.notebook import tqdm\n",
    "sys.path.append(\"../../\")\n",
    "from utils.evaluation import evaluate\n",
    "from utils.metrics import Metrics\n"
   ]
  },
  {
   "cell_type": "code",
   "execution_count": 2,
   "metadata": {},
   "outputs": [],
   "source": [
    "\n",
    "import pickle\n",
    "from git import Repo\n",
    "\n",
    "# Get the git root directory\n",
    "repo = Repo(\".\", search_parent_directories=True)\n",
    "git_root = repo.git.rev_parse(\"--show-toplevel\")\n",
    "\n",
    "# Load data\n",
    "X_Train_pd = pickle.load(open(f\"{git_root}/data/splits/train/X_pandas.pck\", \"rb\"))\n",
    "y_Train_pd = pickle.load(open(f\"{git_root}/data/splits/train/y_pandas.pck\", \"rb\"))\n",
    "\n",
    "X_Val_pd = pickle.load(open(f\"{git_root}/data/splits/val/X_pandas.pck\", \"rb\"))\n",
    "y_Val_pd = pickle.load(open(f\"{git_root}/data/splits/val/y_pandas.pck\", \"rb\"))"
   ]
  },
  {
   "cell_type": "code",
   "execution_count": 3,
   "metadata": {},
   "outputs": [],
   "source": [
    "X_Train = torch.tensor(X_Train_pd.values, dtype=torch.float32)\n",
    "y_Train = torch.tensor(y_Train_pd.values, dtype=torch.float32)\n",
    "\n",
    "X_Val = torch.tensor(X_Val_pd.values, dtype=torch.float32)\n",
    "y_Val = torch.tensor(y_Val_pd.values, dtype=torch.float32)\n"
   ]
  },
  {
   "cell_type": "code",
   "execution_count": 4,
   "metadata": {},
   "outputs": [],
   "source": [
    "class SimpleNetwork(torch.nn.Module):\n",
    "    def __init__(self):\n",
    "        super().__init__()\n",
    "\n",
    "        self.layers = torch.nn.Sequential(\n",
    "            torch.nn.Linear(5045, 5045),\n",
    "            torch.nn.LeakyReLU(0.1),\n",
    "            torch.nn.Linear(5045, 5045),\n",
    "            torch.nn.LeakyReLU(0.1),\n",
    "            torch.nn.Linear(5045, 2000),\n",
    "            torch.nn.LeakyReLU(0.1),\n",
    "            torch.nn.Linear(2000, 1000),\n",
    "            torch.nn.LeakyReLU(0.1),\n",
    "            torch.nn.Linear(1000, 300),\n",
    "            torch.nn.LeakyReLU(0.1),\n",
    "            torch.nn.Linear(300, 105),\n",
    "        )\n",
    "\n",
    "    def forward(self, x):\n",
    "        return self.layers(x)\n"
   ]
  },
  {
   "cell_type": "code",
   "execution_count": 5,
   "metadata": {},
   "outputs": [],
   "source": [
    "class rnaDataset(torch.utils.data.Dataset):\n",
    "    def __init__(self, X, y):\n",
    "        self.X = X\n",
    "        self.y = y\n",
    "\n",
    "    def __len__(self):\n",
    "        return self.X.shape[0]\n",
    "\n",
    "    def __getitem__(self, idx):\n",
    "        return self.X[idx], self.y[idx]"
   ]
  },
  {
   "cell_type": "code",
   "execution_count": 11,
   "metadata": {},
   "outputs": [],
   "source": [
    "def label_from_logits(y_hat: torch.Tensor, threshold = 0.5) -> torch.Tensor:\n",
    "    with torch.no_grad():\n",
    "        y_pred_tensor = (torch.sigmoid(y_hat) > threshold).float()\n",
    "    return y_pred_tensor\n",
    "\n",
    "\n",
    "def evaluate_from_dataframe(X: pd.DataFrame):\n",
    "    X_tensor = torch.tensor(X.to_numpy(), dtype=torch.float32)\n",
    "    \n",
    "    #model: a pytorch model, which transforms X -> y in torch.Tensor format\n",
    "    model.eval()\n",
    "    y_pred_tensor = label_from_logits(model(X_tensor))\n",
    "    \n",
    "    return pd.DataFrame(y_pred_tensor.numpy())\n",
    "\n",
    "def training(model, optimizer, criterion, train_dataloader, val_dataloder, epochs):\n",
    "\n",
    "    for epoch in range(epochs):\n",
    "        train_acc = 0\n",
    "        val_acc = 0\n",
    "        train_loss = 0\n",
    "        val_loss = 0\n",
    "        model.train()\n",
    "        for x,y in tqdm(train_dataloader):\n",
    "            y_pred = model(x)\n",
    "            loss = criterion(y_pred, y)\n",
    "            train_loss += loss.item()\n",
    "            loss.backward()\n",
    "            optimizer.step()\n",
    "            optimizer.zero_grad()\n",
    "            train_acc += Metrics.calculate_accuracy(y.numpy(), label_from_logits(y_pred).numpy())\n",
    "        \n",
    "        with torch.no_grad():\n",
    "            model.eval()\n",
    "            for x,y in val_dataloder:\n",
    "                y_pred = model(x)\n",
    "                val_loss += criterion(y_pred, y)\n",
    "                val_acc += Metrics.calculate_accuracy(y.numpy(), label_from_logits(y_pred).numpy())\n",
    "        \n",
    "        print(f\"Epoch: {epoch} Train Loss: {train_loss} Train Acc: {train_acc/len(train_dataloader)} Val Loss: {val_loss} Val Acc: {val_acc/len(val_dataloder)}\")\n",
    "\n",
    "\n"
   ]
  },
  {
   "cell_type": "code",
   "execution_count": 7,
   "metadata": {},
   "outputs": [],
   "source": [
    "train_dataset = torch.utils.data.TensorDataset(X_Train, y_Train)\n",
    "val_dataset = torch.utils.data.TensorDataset(X_Val, y_Val)"
   ]
  },
  {
   "cell_type": "code",
   "execution_count": 16,
   "metadata": {},
   "outputs": [
    {
     "data": {
      "application/vnd.jupyter.widget-view+json": {
       "model_id": "43bb9c19a7cf4d68b669259a94766507",
       "version_major": 2,
       "version_minor": 0
      },
      "text/plain": [
       "  0%|          | 0/143 [00:00<?, ?it/s]"
      ]
     },
     "metadata": {},
     "output_type": "display_data"
    },
    {
     "name": "stdout",
     "output_type": "stream",
     "text": [
      "Epoch: 0 Train Loss: 11.91609650477767 Train Acc: 0.07617663706025775 Val Loss: 1.084060549736023 Val Acc: 0.08850827991452992\n"
     ]
    },
    {
     "data": {
      "application/vnd.jupyter.widget-view+json": {
       "model_id": "f8b466e7da224e0ba3c67f8aa31ca0d1",
       "version_major": 2,
       "version_minor": 0
      },
      "text/plain": [
       "  0%|          | 0/143 [00:00<?, ?it/s]"
      ]
     },
     "metadata": {},
     "output_type": "display_data"
    },
    {
     "name": "stdout",
     "output_type": "stream",
     "text": [
      "Epoch: 1 Train Loss: 7.790685672312975 Train Acc: 0.10257116715899044 Val Loss: 0.8984967470169067 Val Acc: 0.12370626335470086\n"
     ]
    }
   ],
   "source": [
    "train_dataloader = torch.utils.data.DataLoader(train_dataset, batch_size=512, shuffle=True)\n",
    "val_dataloader = torch.utils.data.DataLoader(val_dataset, batch_size=512, shuffle=False)\n",
    "\n",
    "model = SimpleNetwork()\n",
    "\n",
    "optimizer = torch.optim.AdamW(model.parameters(), lr=0.001)\n",
    "criterion = torch.nn.BCEWithLogitsLoss()\n",
    "\n",
    "training(model, optimizer, criterion, train_dataloader, val_dataloader, 10)"
   ]
  },
  {
   "cell_type": "code",
   "execution_count": 19,
   "metadata": {},
   "outputs": [
    {
     "name": "stdout",
     "output_type": "stream",
     "text": [
      "tensor([[1.0634e-05, 1.0258e-05, 1.9013e-04, 5.8805e-06, 1.4959e-04, 1.8044e-04,\n",
      "         3.6646e-04, 1.6590e-05, 9.0268e-07, 1.9725e-04, 6.3482e-02, 1.6193e-03,\n",
      "         7.5242e-06, 6.7861e-04, 1.8010e-05, 6.7315e-03, 6.1281e-03, 5.8049e-02,\n",
      "         3.5786e-04, 1.0614e-04, 1.4006e-04, 1.4745e-05, 1.4580e-02, 3.3396e-05,\n",
      "         5.1725e-05, 7.4024e-06, 1.4748e-04, 5.4765e-06, 7.0496e-06, 4.0057e-04,\n",
      "         1.8596e-03, 1.1568e-02, 5.3106e-05, 9.5422e-02, 4.1390e-05, 8.5477e-05,\n",
      "         2.0739e-04, 1.3044e-03, 2.6656e-05, 3.4249e-04, 3.6442e-05, 5.5484e-04,\n",
      "         7.8637e-05, 2.3134e-04, 1.8367e-03, 1.8434e-04, 2.2175e-05, 1.0316e-05,\n",
      "         3.1426e-03, 7.0401e-06, 5.0942e-04, 1.1907e-03, 1.3823e-03, 1.3899e-04,\n",
      "         1.6465e-04, 7.1561e-04, 3.1723e-04, 8.0935e-04, 3.4670e-05, 4.2775e-06,\n",
      "         1.4803e-03, 4.0289e-02, 6.6162e-05, 9.4952e-05, 1.5338e-03, 1.3086e-02,\n",
      "         1.3491e-03, 1.0604e-03, 5.8041e-05, 2.8500e-05, 2.8337e-04, 3.9093e-05,\n",
      "         9.7599e-03, 2.5940e-02, 9.0279e-06, 1.5238e-03, 1.8285e-02, 2.5319e-04,\n",
      "         2.7880e-03, 6.7427e-04, 6.8055e-05, 2.9413e-03, 6.5991e-07, 6.0897e-03,\n",
      "         1.2728e-03, 3.1999e-04, 4.9656e-05, 4.4521e-06, 1.9431e-03, 2.4956e-04,\n",
      "         9.8820e-01, 1.3138e-04, 8.3222e-04, 7.4720e-05, 2.6657e-04, 1.9790e-04,\n",
      "         1.5840e-04, 4.9332e-04, 5.9075e-02, 5.6447e-01, 9.9911e-04, 1.0969e-05,\n",
      "         3.6438e-03, 1.4332e-04, 6.8037e-04]], grad_fn=<SigmoidBackward0>)\n"
     ]
    }
   ],
   "source": [
    "\n",
    "model.eval()\n",
    "y_hat = model(X_Val[0:1].to_sparse())\n",
    "print(torch.sigmoid(y_hat))\n",
    "\n"
   ]
  },
  {
   "cell_type": "code",
   "execution_count": 62,
   "metadata": {},
   "outputs": [
    {
     "name": "stdout",
     "output_type": "stream",
     "text": [
      "torch.Size([300, 105])\n",
      "torch.Size([300, 105])\n"
     ]
    },
    {
     "data": {
      "text/plain": [
       "tensor(0.1967)"
      ]
     },
     "execution_count": 62,
     "metadata": {},
     "output_type": "execute_result"
    }
   ],
   "source": [
    "evaluate(model, X_Val[0:300], y_Val[0:300])"
   ]
  },
  {
   "cell_type": "code",
   "execution_count": 82,
   "metadata": {},
   "outputs": [],
   "source": [
    "#torch.save(model.state_dict(), f\"{git_root}/experiments/generating/model.pth\")"
   ]
  },
  {
   "cell_type": "code",
   "execution_count": 18,
   "metadata": {},
   "outputs": [
    {
     "name": "stderr",
     "output_type": "stream",
     "text": [
      "C:\\Users\\Julius\\AppData\\Local\\Temp\\ipykernel_22708\\2206751464.py:2: FutureWarning: You are using `torch.load` with `weights_only=False` (the current default value), which uses the default pickle module implicitly. It is possible to construct malicious pickle data which will execute arbitrary code during unpickling (See https://github.com/pytorch/pytorch/blob/main/SECURITY.md#untrusted-models for more details). In a future release, the default value for `weights_only` will be flipped to `True`. This limits the functions that could be executed during unpickling. Arbitrary objects will no longer be allowed to be loaded via this mode unless they are explicitly allowlisted by the user via `torch.serialization.add_safe_globals`. We recommend you start setting `weights_only=True` for any use case where you don't have full control of the loaded file. Please open an issue on GitHub for any issues related to this experimental feature.\n",
      "  model.load_state_dict(torch.load(f\"{git_root}/experiments/generating/model.pth\"))\n"
     ]
    },
    {
     "data": {
      "text/plain": [
       "<All keys matched successfully>"
      ]
     },
     "execution_count": 18,
     "metadata": {},
     "output_type": "execute_result"
    }
   ],
   "source": [
    "model = SimpleNetwork()\n",
    "model.load_state_dict(torch.load(f\"{git_root}/experiments/generating/model.pth\"))"
   ]
  },
  {
   "cell_type": "code",
   "execution_count": 19,
   "metadata": {},
   "outputs": [
    {
     "name": "stdout",
     "output_type": "stream",
     "text": [
      "accuracy: 0.42774122807017545\n",
      "precision: 0.650244324304447\n",
      "recall: 0.42416622145821437\n",
      "auc: 0.7111511141993914\n",
      "f1_score: 0.4896933622744449\n"
     ]
    }
   ],
   "source": [
    "metrics_test = evaluate(evaluate_from_dataframe)\n",
    "\n",
    "for metric, value in metrics_test:\n",
    "    print(f\"{metric}: {value}\")"
   ]
  },
  {
   "cell_type": "code",
   "execution_count": null,
   "metadata": {},
   "outputs": [],
   "source": []
  }
 ],
 "metadata": {
  "kernelspec": {
   "display_name": ".venv",
   "language": "python",
   "name": "python3"
  },
  "language_info": {
   "codemirror_mode": {
    "name": "ipython",
    "version": 3
   },
   "file_extension": ".py",
   "mimetype": "text/x-python",
   "name": "python",
   "nbconvert_exporter": "python",
   "pygments_lexer": "ipython3",
   "version": "3.10.10"
  }
 },
 "nbformat": 4,
 "nbformat_minor": 2
}
