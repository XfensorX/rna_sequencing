{
 "cells": [
  {
   "cell_type": "markdown",
   "metadata": {},
   "source": [
    "- Evaluate Simplenetwork ?\n",
    "- Optuna Training\n",
    "- Best Optuna Training\n",
    "- WGAN -Training \n",
    "\n",
    "What gets the Best Optuna Model well on test set an what not. \n",
    "- Accuracy under the number of true classes on test set\n",
    "- Number of data for each number of true classes\n",
    "\n",
    "Number of Occurances of every class and the accuracy on that class \n",
    "\n",
    "\n",
    "Dim-Reduction -> Wichtigkeit der Dimensionen und dann Accuracy mit dem Optuna Model auf Valdaten mit den gewählten Dims -> tSNE or PCA"
   ]
  },
  {
   "cell_type": "code",
   "execution_count": 1,
   "metadata": {},
   "outputs": [],
   "source": [
    "import sys\n",
    "import os\n",
    "import pandas as pd\n",
    "import torch\n",
    "import torch.nn as nn\n",
    "import numpy as np\n",
    "import matplotlib.pyplot as plt\n",
    "from tqdm.notebook import tqdm\n",
    "sys.path.append(\"../../\")\n",
    "from utils.evaluation import evaluate\n",
    "from utils.metrics import Metrics"
   ]
  },
  {
   "cell_type": "code",
   "execution_count": 2,
   "metadata": {},
   "outputs": [],
   "source": [
    "import pickle\n",
    "from git import Repo\n",
    "\n",
    "# Get the git root directory\n",
    "repo = Repo(\".\", search_parent_directories=True)\n",
    "git_root = repo.git.rev_parse(\"--show-toplevel\")\n",
    "\n",
    "# Load data\n",
    "X_Train_pd = pickle.load(open(f\"{git_root}/data/splits/train/X_pandas.pck\", \"rb\"))\n",
    "y_Train_pd = pickle.load(open(f\"{git_root}/data/splits/train/y_pandas.pck\", \"rb\"))\n",
    "\n",
    "X_Val_pd = pickle.load(open(f\"{git_root}/data/splits/val/X_pandas.pck\", \"rb\"))\n",
    "y_Val_pd = pickle.load(open(f\"{git_root}/data/splits/val/y_pandas.pck\", \"rb\"))\n",
    "\n",
    "X_test_pd = pickle.load(open(f\"{git_root}/data/splits/test/X_pandas.pck\", \"rb\"))\n",
    "y_test_pd = pickle.load(open(f\"{git_root}/data/splits/test/y_pandas.pck\", \"rb\"))\n",
    "\n",
    "# Convert to tensors\n",
    "X_train = torch.tensor(X_Train_pd.values, dtype=torch.float32)\n",
    "y_train = torch.tensor(y_Train_pd.values, dtype=torch.float32)\n",
    "train_dataset = torch.utils.data.TensorDataset(X_train, y_train)\n",
    "train_dataloader = torch.utils.data.DataLoader(train_dataset, batch_size=256, shuffle=False)\n",
    "\n",
    "X_val = torch.tensor(X_Val_pd.values, dtype=torch.float32)\n",
    "y_val = torch.tensor(y_Val_pd.values, dtype=torch.float32)\n",
    "val_dataset = torch.utils.data.TensorDataset(X_val, y_val)\n",
    "val_dataloader = torch.utils.data.DataLoader(val_dataset, batch_size=256, shuffle=False)\n",
    "\n",
    "X_test = torch.tensor(X_test_pd.values, dtype=torch.float32)\n",
    "y_test = torch.tensor(y_test_pd.values, dtype=torch.float32)\n",
    "test_dataset = torch.utils.data.TensorDataset(X_test, y_test)\n",
    "test_dataloader = torch.utils.data.DataLoader(test_dataset, batch_size=256, shuffle=False)"
   ]
  },
  {
   "cell_type": "code",
   "execution_count": 3,
   "metadata": {},
   "outputs": [],
   "source": [
    "class SimpleNetwork(torch.nn.Module):\n",
    "    def __init__(self):\n",
    "        super().__init__()\n",
    "\n",
    "        self.layers = torch.nn.Sequential(\n",
    "            torch.nn.Linear(5045, 3934),\n",
    "            torch.nn.LeakyReLU(0.26250042355767117),\n",
    "            torch.nn.BatchNorm1d(3934),\n",
    "            torch.nn.Dropout(p=0.26081286435916),\n",
    "            torch.nn.Linear(3934, 2246),\n",
    "            torch.nn.LeakyReLU(0.26250042355767117),\n",
    "            torch.nn.BatchNorm1d(2246),\n",
    "            torch.nn.Dropout(p=0.26081286435916),\n",
    "            torch.nn.Linear(2246, 1955),\n",
    "            torch.nn.LeakyReLU(0.26250042355767117),\n",
    "            torch.nn.BatchNorm1d(1955),\n",
    "            torch.nn.Dropout(p=0.26081286435916),\n",
    "            torch.nn.Linear(1955, 745),\n",
    "            torch.nn.LeakyReLU(0.26250042355767117),\n",
    "            torch.nn.BatchNorm1d(745),\n",
    "            torch.nn.Dropout(p=0.26081286435916),\n",
    "            torch.nn.Linear(745, 702),\n",
    "            torch.nn.LeakyReLU(0.26250042355767117),\n",
    "            torch.nn.BatchNorm1d(702),\n",
    "            torch.nn.Dropout(p=0.26081286435916),\n",
    "            torch.nn.Linear(702, 105),\n",
    "        )\n",
    "\n",
    "        # Apply Xavier initialization\n",
    "        for layer in self.layers:\n",
    "            if isinstance(layer, torch.nn.Linear):\n",
    "                torch.nn.init.xavier_normal_(layer.weight)\n",
    "\n",
    "    def forward(self, x):\n",
    "        return self.layers(x)"
   ]
  },
  {
   "cell_type": "code",
   "execution_count": 4,
   "metadata": {},
   "outputs": [],
   "source": [
    "def label_from_logits(y_hat: torch.Tensor, threshold = 0.5) -> torch.Tensor:\n",
    "    with torch.no_grad():\n",
    "        y_pred_tensor = (torch.sigmoid(y_hat) > threshold).float()\n",
    "    return y_pred_tensor\n",
    "\n"
   ]
  },
  {
   "cell_type": "code",
   "execution_count": 5,
   "metadata": {},
   "outputs": [
    {
     "name": "stderr",
     "output_type": "stream",
     "text": [
      "C:\\Users\\Julius\\AppData\\Local\\Temp\\ipykernel_4960\\1406653280.py:4: FutureWarning: You are using `torch.load` with `weights_only=False` (the current default value), which uses the default pickle module implicitly. It is possible to construct malicious pickle data which will execute arbitrary code during unpickling (See https://github.com/pytorch/pytorch/blob/main/SECURITY.md#untrusted-models for more details). In a future release, the default value for `weights_only` will be flipped to `True`. This limits the functions that could be executed during unpickling. Arbitrary objects will no longer be allowed to be loaded via this mode unless they are explicitly allowlisted by the user via `torch.serialization.add_safe_globals`. We recommend you start setting `weights_only=True` for any use case where you don't have full control of the loaded file. Please open an issue on GitHub for any issues related to this experimental feature.\n",
      "  model.load_state_dict(torch.load(f\"{git_root}/evaluation/NeuronalNetwork/data/BestOptuna/model.pt\"))\n"
     ]
    },
    {
     "data": {
      "text/plain": [
       "<All keys matched successfully>"
      ]
     },
     "execution_count": 5,
     "metadata": {},
     "output_type": "execute_result"
    }
   ],
   "source": [
    "model = SimpleNetwork()\n",
    "\n",
    "# Load model\n",
    "model.load_state_dict(torch.load(f\"{git_root}/evaluation/NeuronalNetwork/data/BestOptuna/model.pt\"))"
   ]
  },
  {
   "cell_type": "code",
   "execution_count": 13,
   "metadata": {},
   "outputs": [],
   "source": [
    "model.eval()\n",
    "\n",
    "\n",
    "\n",
    "def evaluate_model(threshold):\n",
    "    y_hat_test = torch.tensor([])\n",
    "    y_hat_train = torch.tensor([])\n",
    "    y_hat_val = torch.tensor([])\n",
    "    with torch.no_grad():\n",
    "        for X_batch, y_batch in tqdm(test_dataloader):\n",
    "            logits = model(X_batch)\n",
    "            y_hat_test = torch.cat((y_hat_test, label_from_logits(logits, threshold=threshold)), 0)\n",
    "        y_hat_test = y_hat_test.numpy()\n",
    "        for X_batch, y_batch in tqdm(train_dataloader):\n",
    "            logits = model(X_batch)\n",
    "            y_hat_train = torch.cat((y_hat_train, label_from_logits(logits, threshold=threshold)), 0)\n",
    "        y_hat_train = y_hat_train.numpy()\n",
    "        for X_batch, y_batch in tqdm(val_dataloader):\n",
    "            logits = model(X_batch)\n",
    "            y_hat_val = torch.cat((y_hat_val, label_from_logits(logits, threshold=threshold)), 0)\n",
    "        y_hat_val = y_hat_val.numpy()\n",
    "\n",
    "    return y_hat_train, y_hat_val, y_hat_test"
   ]
  },
  {
   "cell_type": "code",
   "execution_count": 25,
   "metadata": {},
   "outputs": [
    {
     "data": {
      "application/vnd.jupyter.widget-view+json": {
       "model_id": "081b5ca574094aba8762e821f6b651fe",
       "version_major": 2,
       "version_minor": 0
      },
      "text/plain": [
       "  0%|          | 0/36 [00:00<?, ?it/s]"
      ]
     },
     "metadata": {},
     "output_type": "display_data"
    },
    {
     "data": {
      "application/vnd.jupyter.widget-view+json": {
       "model_id": "8401455040cb4857882737cd8267ef02",
       "version_major": 2,
       "version_minor": 0
      },
      "text/plain": [
       "  0%|          | 0/286 [00:00<?, ?it/s]"
      ]
     },
     "metadata": {},
     "output_type": "display_data"
    },
    {
     "data": {
      "application/vnd.jupyter.widget-view+json": {
       "model_id": "166781a53acf4a91911c938f80a78c4f",
       "version_major": 2,
       "version_minor": 0
      },
      "text/plain": [
       "  0%|          | 0/36 [00:00<?, ?it/s]"
      ]
     },
     "metadata": {},
     "output_type": "display_data"
    },
    {
     "name": "stdout",
     "output_type": "stream",
     "text": [
      "Metrics Test: {'accuracy': 0.48486842105263156, 'precision': 0.7175926497830036, 'recall': 0.5312653983812686, 'auc': np.float64(0.7644264942765617), 'f1_score': 0.5969241424947132}\n",
      "Metrics Train: {'accuracy': 0.9395052422394299, 'precision': 0.9802577679660511, 'recall': 0.9377094441892853, 'auc': np.float64(0.9687440790650383), 'f1_score': 0.9562176916844453}\n",
      "Metrics Val: {'accuracy': 0.4941885964912281, 'precision': 0.7315725453523074, 'recall': 0.540013005061243, 'auc': np.float64(0.7689018794661082), 'f1_score': 0.6085700519950478}\n"
     ]
    }
   ],
   "source": [
    "y_hat_train, y_hat_val, y_hat_test = evaluate_model(threshold=0.5)\n",
    "\n",
    "metrics_test = Metrics(y_hat_test, y_test.to(y_hat_test.device).numpy())\n",
    "metrics_train = Metrics(y_hat_train, y_train.to(y_hat_train.device).numpy())\n",
    "metrics_val = Metrics(y_hat_val, y_val.to(y_hat_val.device).numpy())\n",
    "\n",
    "print(f\"Metrics Test: {metrics_test.as_dict()}\")\n",
    "print(f\"Metrics Train: {metrics_train.as_dict()}\")\n",
    "print(f\"Metrics Val: {metrics_val.as_dict()}\")"
   ]
  },
  {
   "cell_type": "code",
   "execution_count": 40,
   "metadata": {},
   "outputs": [
    {
     "name": "stderr",
     "output_type": "stream",
     "text": [
      "c:\\Users\\Julius\\Documents\\LuH\\rna_sequencing\\.venv\\lib\\site-packages\\sklearn\\metrics\\_ranking.py:375: UndefinedMetricWarning: Only one class is present in y_true. ROC AUC score is not defined in that case.\n",
      "  warnings.warn(\n",
      "c:\\Users\\Julius\\Documents\\LuH\\rna_sequencing\\.venv\\lib\\site-packages\\sklearn\\metrics\\_classification.py:1565: UndefinedMetricWarning: F-score is ill-defined and being set to 0.0 in labels with no true nor predicted samples. Use `zero_division` parameter to control this behavior.\n",
      "  _warn_prf(average, modifier, f\"{metric.capitalize()} is\", len(result))\n",
      "c:\\Users\\Julius\\Documents\\LuH\\rna_sequencing\\.venv\\lib\\site-packages\\sklearn\\metrics\\_ranking.py:375: UndefinedMetricWarning: Only one class is present in y_true. ROC AUC score is not defined in that case.\n",
      "  warnings.warn(\n",
      "c:\\Users\\Julius\\Documents\\LuH\\rna_sequencing\\.venv\\lib\\site-packages\\sklearn\\metrics\\_ranking.py:375: UndefinedMetricWarning: Only one class is present in y_true. ROC AUC score is not defined in that case.\n",
      "  warnings.warn(\n",
      "c:\\Users\\Julius\\Documents\\LuH\\rna_sequencing\\.venv\\lib\\site-packages\\sklearn\\metrics\\_ranking.py:375: UndefinedMetricWarning: Only one class is present in y_true. ROC AUC score is not defined in that case.\n",
      "  warnings.warn(\n",
      "c:\\Users\\Julius\\Documents\\LuH\\rna_sequencing\\.venv\\lib\\site-packages\\sklearn\\metrics\\_ranking.py:375: UndefinedMetricWarning: Only one class is present in y_true. ROC AUC score is not defined in that case.\n",
      "  warnings.warn(\n",
      "c:\\Users\\Julius\\Documents\\LuH\\rna_sequencing\\.venv\\lib\\site-packages\\sklearn\\metrics\\_ranking.py:375: UndefinedMetricWarning: Only one class is present in y_true. ROC AUC score is not defined in that case.\n",
      "  warnings.warn(\n",
      "c:\\Users\\Julius\\Documents\\LuH\\rna_sequencing\\.venv\\lib\\site-packages\\sklearn\\metrics\\_ranking.py:375: UndefinedMetricWarning: Only one class is present in y_true. ROC AUC score is not defined in that case.\n",
      "  warnings.warn(\n",
      "c:\\Users\\Julius\\Documents\\LuH\\rna_sequencing\\.venv\\lib\\site-packages\\sklearn\\metrics\\_ranking.py:375: UndefinedMetricWarning: Only one class is present in y_true. ROC AUC score is not defined in that case.\n",
      "  warnings.warn(\n",
      "c:\\Users\\Julius\\Documents\\LuH\\rna_sequencing\\.venv\\lib\\site-packages\\sklearn\\metrics\\_ranking.py:375: UndefinedMetricWarning: Only one class is present in y_true. ROC AUC score is not defined in that case.\n",
      "  warnings.warn(\n",
      "c:\\Users\\Julius\\Documents\\LuH\\rna_sequencing\\.venv\\lib\\site-packages\\sklearn\\metrics\\_ranking.py:375: UndefinedMetricWarning: Only one class is present in y_true. ROC AUC score is not defined in that case.\n",
      "  warnings.warn(\n",
      "c:\\Users\\Julius\\Documents\\LuH\\rna_sequencing\\.venv\\lib\\site-packages\\sklearn\\metrics\\_ranking.py:375: UndefinedMetricWarning: Only one class is present in y_true. ROC AUC score is not defined in that case.\n",
      "  warnings.warn(\n",
      "c:\\Users\\Julius\\Documents\\LuH\\rna_sequencing\\.venv\\lib\\site-packages\\sklearn\\metrics\\_ranking.py:375: UndefinedMetricWarning: Only one class is present in y_true. ROC AUC score is not defined in that case.\n",
      "  warnings.warn(\n",
      "c:\\Users\\Julius\\Documents\\LuH\\rna_sequencing\\.venv\\lib\\site-packages\\sklearn\\metrics\\_ranking.py:375: UndefinedMetricWarning: Only one class is present in y_true. ROC AUC score is not defined in that case.\n",
      "  warnings.warn(\n",
      "c:\\Users\\Julius\\Documents\\LuH\\rna_sequencing\\.venv\\lib\\site-packages\\sklearn\\metrics\\_ranking.py:375: UndefinedMetricWarning: Only one class is present in y_true. ROC AUC score is not defined in that case.\n",
      "  warnings.warn(\n",
      "c:\\Users\\Julius\\Documents\\LuH\\rna_sequencing\\.venv\\lib\\site-packages\\sklearn\\metrics\\_ranking.py:375: UndefinedMetricWarning: Only one class is present in y_true. ROC AUC score is not defined in that case.\n",
      "  warnings.warn(\n",
      "c:\\Users\\Julius\\Documents\\LuH\\rna_sequencing\\.venv\\lib\\site-packages\\sklearn\\metrics\\_ranking.py:375: UndefinedMetricWarning: Only one class is present in y_true. ROC AUC score is not defined in that case.\n",
      "  warnings.warn(\n",
      "c:\\Users\\Julius\\Documents\\LuH\\rna_sequencing\\.venv\\lib\\site-packages\\sklearn\\metrics\\_ranking.py:375: UndefinedMetricWarning: Only one class is present in y_true. ROC AUC score is not defined in that case.\n",
      "  warnings.warn(\n",
      "c:\\Users\\Julius\\Documents\\LuH\\rna_sequencing\\.venv\\lib\\site-packages\\sklearn\\metrics\\_ranking.py:375: UndefinedMetricWarning: Only one class is present in y_true. ROC AUC score is not defined in that case.\n",
      "  warnings.warn(\n",
      "c:\\Users\\Julius\\Documents\\LuH\\rna_sequencing\\.venv\\lib\\site-packages\\sklearn\\metrics\\_classification.py:1565: UndefinedMetricWarning: F-score is ill-defined and being set to 0.0 in labels with no true nor predicted samples. Use `zero_division` parameter to control this behavior.\n",
      "  _warn_prf(average, modifier, f\"{metric.capitalize()} is\", len(result))\n"
     ]
    }
   ],
   "source": [
    "# Split the test labels into parts depending on the number of true classes\n",
    "y_test_np = y_test_pd.values\n",
    "y_train_np = y_Train_pd.values\n",
    "\n",
    "\n",
    "# Split the test predictions into parts depending on the number of true classes\n",
    "y_hat_test_parts = np.empty(3, dtype=object)\n",
    "metrics_test_parts = np.empty(3, dtype=object)\n",
    "accuracy_test_parts = np.empty(3, dtype=object)\n",
    "test_parts_size = np.empty(3, dtype=object)\n",
    "mean_mask_counts = np.empty(3, dtype=object)\n",
    "\n",
    "for i in range(3):\n",
    "    y_hat_test_parts[i] = y_hat_test[np.sum(y_test_np, axis=1) == i]\n",
    "    y_test_part = y_test_np[np.sum(y_test_np, axis=1) == i]\n",
    "    y_train_part = y_train[np.sum(y_train_np, axis=1) == i]\n",
    "    metrics_test_parts[i] = Metrics(y_hat_test_parts[i], y_test_part)\n",
    "    accuracy_test_parts[i] = metrics_test_parts[i].as_dict()[\"accuracy\"]\n",
    "    test_parts_size[i] = len(y_test_part)\n",
    "    unique_masks, counts = np.unique(y_train_part, axis=0, return_counts=True)\n",
    "    mean_mask_counts[i] = np.mean(counts) \n",
    "\n",
    "size_total = np.sum(test_parts_size)\n"
   ]
  },
  {
   "cell_type": "code",
   "execution_count": 48,
   "metadata": {},
   "outputs": [
    {
     "data": {
      "image/png": "[encoded data removed]",
      "text/plain": [
       "<Figure size 400x300 with 2 Axes>"
      ]
     },
     "metadata": {},
     "output_type": "display_data"
    }
   ],
   "source": [
    "# Plot accuracy and number of samples as barplot\n",
    "fig, ax1 = plt.subplots(figsize=(4, 3))\n",
    "bar_width = 0.3\n",
    "index = np.arange(3)\n",
    "\n",
    "# Plot accuracy on the first y-axis\n",
    "ax1.bar(index, accuracy_test_parts, bar_width, label=\"Test accuracy\", color='tab:blue')\n",
    "ax1.set_xlabel(\"Number of perturbations\")\n",
    "ax1.set_ylabel(\"Test accuracy\", color='tab:blue')\n",
    "ax1.tick_params(axis='y')\n",
    "ax1.set_xticks(index + bar_width / 2)\n",
    "ax1.set_xticklabels([str(i) for i in range(3)])\n",
    "ax1.grid(axis='y')\n",
    "ax1.set_ylim(0, 1)\n",
    "\n",
    "# Create a second y-axis for the number of samples\n",
    "ax2 = ax1.twinx()\n",
    "ax2.bar(index + bar_width, mean_mask_counts, bar_width, label=\"Samples in training data (normalized)\", color='tab:orange')\n",
    "ax2.set_ylabel(\"Mean samples in Training data\", color='tab:orange')\n",
    "ax2.tick_params(axis='y')\n",
    "\n",
    "fig.tight_layout()\n",
    "\n",
    "plt.show()\n"
   ]
  }
 ],
 "metadata": {
  "kernelspec": {
   "display_name": ".venv",
   "language": "python",
   "name": "python3"
  },
  "language_info": {
   "codemirror_mode": {
    "name": "ipython",
    "version": 3
   },
   "file_extension": ".py",
   "mimetype": "text/x-python",
   "name": "python",
   "nbconvert_exporter": "python",
   "pygments_lexer": "ipython3",
   "version": "3.10.10"
  }
 },
 "nbformat": 4,
 "nbformat_minor": 2
}
